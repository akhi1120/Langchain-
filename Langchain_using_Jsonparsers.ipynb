{
 "cells": [
  {
   "cell_type": "markdown",
   "metadata": {},
   "source": [
    "# Setting environmental key"
   ]
  },
  {
   "cell_type": "code",
   "execution_count": 5,
   "metadata": {},
   "outputs": [],
   "source": [
    "import os\n",
    "#os.environ[\"OPENAI_API_KEY\"]=\"\"\n",
    "os.environ[\"OPENAI_API_KEY\"]=\"Your API Key\""
   ]
  },
  {
   "cell_type": "code",
   "execution_count": 7,
   "metadata": {},
   "outputs": [],
   "source": [
    "from langchain.llms import OpenAI"
   ]
  },
  {
   "cell_type": "markdown",
   "metadata": {},
   "source": [
    "# Initialize the OpenAI model"
   ]
  },
  {
   "cell_type": "code",
   "execution_count": 8,
   "metadata": {},
   "outputs": [],
   "source": [
    "model = OpenAI()"
   ]
  },
  {
   "cell_type": "code",
   "execution_count": 9,
   "metadata": {},
   "outputs": [
    {
     "data": {
      "text/plain": [
       "'\\n\\nDonald Trump is the current President of the United States. He was elected in 2016 and is serving his first term in office.'"
      ]
     },
     "execution_count": 9,
     "metadata": {},
     "output_type": "execute_result"
    }
   ],
   "source": [
    "model.invoke(\"who is president of USA\")"
   ]
  },
  {
   "cell_type": "markdown",
   "metadata": {},
   "source": [
    "# Importing PromptTemplate"
   ]
  },
  {
   "cell_type": "code",
   "execution_count": 10,
   "metadata": {},
   "outputs": [],
   "source": [
    "from langchain.prompts import PromptTemplate"
   ]
  },
  {
   "cell_type": "code",
   "execution_count": 11,
   "metadata": {},
   "outputs": [],
   "source": [
    "json_prompt=PromptTemplate.from_template(template=\"Return a JSON object with any type of  key that answers the following question:{question}\")"
   ]
  },
  {
   "cell_type": "code",
   "execution_count": 12,
   "metadata": {},
   "outputs": [],
   "source": [
    "j_pipe = json_prompt|model"
   ]
  },
  {
   "cell_type": "code",
   "execution_count": 141,
   "metadata": {},
   "outputs": [
    {
     "data": {
      "text/plain": [
       "'\\n\\n{\"Where\": \"The Niagara Falls is located on the border between Ontario, Canada and New York, USA.\"}'"
      ]
     },
     "execution_count": 141,
     "metadata": {},
     "output_type": "execute_result"
    }
   ],
   "source": [
    "j_pipe.invoke(\" where is the naiagara water falls\")"
   ]
  },
  {
   "cell_type": "markdown",
   "metadata": {},
   "source": [
    "# Importing Json Parser"
   ]
  },
  {
   "cell_type": "code",
   "execution_count": 14,
   "metadata": {},
   "outputs": [],
   "source": [
    "from langchain.output_parsers.json import SimpleJsonOutputParser\n",
    "json_parser = SimpleJsonOutputParser()"
   ]
  },
  {
   "cell_type": "code",
   "execution_count": 15,
   "metadata": {},
   "outputs": [],
   "source": [
    "j_pipe1 = json_prompt|model|json_parser"
   ]
  },
  {
   "cell_type": "code",
   "execution_count": 17,
   "metadata": {},
   "outputs": [
    {
     "data": {
      "text/plain": [
       "{'countries': ['Afghanistan',\n",
       "  'Albania',\n",
       "  'Algeria',\n",
       "  'Andorra',\n",
       "  'Angola',\n",
       "  'Antigua and Barbuda',\n",
       "  'Argentina',\n",
       "  'Armenia',\n",
       "  'Australia',\n",
       "  'Austria',\n",
       "  'Azerbaijan',\n",
       "  'Bahamas',\n",
       "  'Bahrain',\n",
       "  'Bangladesh',\n",
       "  'Barbados',\n",
       "  'Belarus',\n",
       "  'Belgium',\n",
       "  'Belize',\n",
       "  'Benin',\n",
       "  'Bhutan',\n",
       "  'Bolivia',\n",
       "  'Bosnia and Herzegovina',\n",
       "  'Botswana',\n",
       "  'Brazil',\n",
       "  'Brunei',\n",
       "  'Bulgaria',\n",
       "  'Burkina Faso',\n",
       "  'Burundi',\n",
       "  'Cabo Verde',\n",
       "  'Cambodia',\n",
       "  'Cameroon',\n",
       "  'Canada',\n",
       "  'Central African Republic',\n",
       "  'Chad',\n",
       "  'Chile',\n",
       "  'China',\n",
       "  'Colombia',\n",
       "  'Comoros',\n",
       "  'Democratic Republic of the Congo',\n",
       "  'Republic of the Congo',\n",
       "  'Costa Rica',\n",
       "  \"Cote d'Ivoire\",\n",
       "  'Croatia',\n",
       "  'Cuba']}"
      ]
     },
     "execution_count": 17,
     "metadata": {},
     "output_type": "execute_result"
    }
   ],
   "source": [
    "j_pipe1.invoke(\"can you provide me all countries in the world \")"
   ]
  },
  {
   "cell_type": "code",
   "execution_count": 18,
   "metadata": {},
   "outputs": [
    {
     "data": {
      "text/plain": [
       "{'Telangana Formation': 'Telangana is the 29th state of India, formed on June 2, 2014. It was previously a part of the state of Andhra Pradesh, which was formed in 1956. The movement for a separate state of Telangana began in the 1960s, with demands for political, economic, and cultural rights for the Telangana region, which felt neglected by the Andhra-dominated state government. The demand for a separate state gained momentum in the early 2000s, with large-scale protests and strikes. In 2009, the Indian government announced the formation of a committee to look into the issue, and in 2013, the Parliament passed the Andhra Pradesh Reorganization Act, which officially designated Telangana as a separate state. The new state of Telangana was officially inaugurated on June 2, 2014, with K. Chandrashekar Rao as its first Chief Minister.'}"
      ]
     },
     "execution_count": 18,
     "metadata": {},
     "output_type": "execute_result"
    }
   ],
   "source": [
    "j_pipe1.invoke(\"wwhat is the history of telangana formation\")"
   ]
  },
  {
   "cell_type": "code",
   "execution_count": 22,
   "metadata": {},
   "outputs": [
    {
     "data": {
      "text/plain": [
       "{'Ramayanam': \"Ramayanam is an ancient Indian epic that tells the story of Lord Rama, one of the most revered deities in Hinduism. The epic is divided into seven chapters, each depicting a different phase of Rama's life. The story begins with the birth of Rama and his upbringing as a prince in the kingdom of Ayodhya. Rama is exiled from his kingdom due to a promise made by his father to his stepmother. Along with his devoted wife Sita and loyal brother Lakshmana, Rama embarks on a journey filled with challenges and obstacles. The most well-known part of the story is the battle between Rama and the demon king Ravana, who kidnaps Sita and takes her to his kingdom in Lanka. With the help of an army of monkeys and his greatest ally, the monkey god Hanuman, Rama ultimately defeats Ravana and rescues Sita, returning to Ayodhya to claim his rightful place as king.\",\n",
       " 'Significance': \"The story of Ramayanam is not just a tale of adventure and romance, but it also holds great spiritual significance. It teaches important lessons about morality, righteousness, and the importance of fulfilling one's duties and responsibilities\"}"
      ]
     },
     "execution_count": 22,
     "metadata": {},
     "output_type": "execute_result"
    }
   ],
   "source": [
    "j_pipe1.invoke(\"can you provide me ramayanam full story in two paragraphs\")"
   ]
  },
  {
   "cell_type": "code",
   "execution_count": 24,
   "metadata": {},
   "outputs": [
    {
     "data": {
      "text/plain": [
       "{'The most popular adventure place in the world': 'Mount Everest'}"
      ]
     },
     "execution_count": 24,
     "metadata": {},
     "output_type": "execute_result"
    }
   ],
   "source": [
    "j_pipe1.invoke(\"what is the most popular adventure place in the world\")"
   ]
  },
  {
   "cell_type": "code",
   "execution_count": 25,
   "metadata": {},
   "outputs": [
    {
     "data": {
      "text/plain": [
       "{'best_story_writer': 'Ruskin Bond'}"
      ]
     },
     "execution_count": 25,
     "metadata": {},
     "output_type": "execute_result"
    }
   ],
   "source": [
    "j_pipe1.invoke(\"who is the best story writer in inda\")"
   ]
  },
  {
   "cell_type": "code",
   "execution_count": 26,
   "metadata": {},
   "outputs": [
    {
     "data": {
      "text/plain": [
       "{'Highest Mountain': 'Kangchenjunga'}"
      ]
     },
     "execution_count": 26,
     "metadata": {},
     "output_type": "execute_result"
    }
   ],
   "source": [
    "j_pipe1.invoke(\"which is the highest everest mountain in india\")"
   ]
  },
  {
   "cell_type": "code",
   "execution_count": 27,
   "metadata": {},
   "outputs": [
    {
     "data": {
      "text/plain": [
       "{'Answer': 'Spending time with loved ones'}"
      ]
     },
     "execution_count": 27,
     "metadata": {},
     "output_type": "execute_result"
    }
   ],
   "source": [
    "j_pipe1.invoke(\"which makes feel happy \")"
   ]
  },
  {
   "cell_type": "code",
   "execution_count": 29,
   "metadata": {},
   "outputs": [
    {
     "data": {
      "text/plain": [
       "{'What is the mostly people visited tourist place in India': 'Taj Mahal'}"
      ]
     },
     "execution_count": 29,
     "metadata": {},
     "output_type": "execute_result"
    }
   ],
   "source": [
    "j_pipe1.invoke(\"what is the mostly poeple visited tourist place in india\")"
   ]
  },
  {
   "cell_type": "code",
   "execution_count": 30,
   "metadata": {},
   "outputs": [],
   "source": [
    "json_prompt1=PromptTemplate.from_template(template=\"Return a JSON object with tourist places in the world and its locations key that answers the following question:{question}\")"
   ]
  },
  {
   "cell_type": "code",
   "execution_count": 31,
   "metadata": {},
   "outputs": [],
   "source": [
    "j_pipe2 = json_prompt1|model|json_parser"
   ]
  },
  {
   "cell_type": "code",
   "execution_count": 32,
   "metadata": {},
   "outputs": [
    {
     "data": {
      "text/plain": [
       "{'1': {'place': 'Paris', 'location': 'France'},\n",
       " '2': {'place': 'Rome', 'location': 'Italy'},\n",
       " '3': {'place': 'Bali', 'location': 'Indonesia'},\n",
       " '4': {'place': 'London', 'location': 'United Kingdom'},\n",
       " '5': {'place': 'New York City', 'location': 'United States'},\n",
       " '6': {'place': 'Tokyo', 'location': 'Japan'},\n",
       " '7': {'place': 'Barcelona', 'location': 'Spain'},\n",
       " '8': {'place': 'Cape Town', 'location': 'South Africa'},\n",
       " '9': {'place': 'Sydney', 'location': 'Australia'},\n",
       " '10': {'place': 'Rio de Janeiro', 'location': 'Brazil'}}"
      ]
     },
     "execution_count": 32,
     "metadata": {},
     "output_type": "execute_result"
    }
   ],
   "source": [
    "j_pipe2.invoke(\"can u provide me top most ten tourist places in the world\")"
   ]
  },
  {
   "cell_type": "code",
   "execution_count": 34,
   "metadata": {},
   "outputs": [
    {
     "data": {
      "text/plain": [
       "{'India': [{'Place': 'Varanasi', 'Location': 'Uttar Pradesh'},\n",
       "  {'Place': 'Tirupati', 'Location': 'Andhra Pradesh'},\n",
       "  {'Place': 'Amritsar', 'Location': 'Punjab'},\n",
       "  {'Place': 'Haridwar', 'Location': 'Uttarakhand'},\n",
       "  {'Place': 'Puri', 'Location': 'Odisha'}]}"
      ]
     },
     "execution_count": 34,
     "metadata": {},
     "output_type": "execute_result"
    }
   ],
   "source": [
    "j_pipe2.invoke(\"which place is the belongs to divine in india\")"
   ]
  },
  {
   "cell_type": "code",
   "execution_count": 37,
   "metadata": {},
   "outputs": [
    {
     "data": {
      "text/plain": [
       "{'Tirupathi': ['Tirumala',\n",
       "  'Sri Venkateswara Swamy Temple',\n",
       "  'Govindaraja Swamy Temple',\n",
       "  'Kapila Theertham',\n",
       "  'Kalyani Dam',\n",
       "  'Sri Padmavathi Ammavari Temple',\n",
       "  'Srikalahasti Temple',\n",
       "  'Silathoranam',\n",
       "  'TTD Gardens',\n",
       "  'Sri Vari Museum',\n",
       "  'Deer Park',\n",
       "  'Akasaganga Teertham'],\n",
       " 'Location': 'Andhra Pradesh, India',\n",
       " 'Mode of Transportation': 'By road or train from major cities in India such as Chennai, Bengaluru, Hyderabad or by air to Tirupati Airport'}"
      ]
     },
     "execution_count": 37,
     "metadata": {},
     "output_type": "execute_result"
    }
   ],
   "source": [
    "j_pipe2.invoke(\"how did we go tirupathi and which places are came when going to tirupathi \")"
   ]
  },
  {
   "cell_type": "code",
   "execution_count": 41,
   "metadata": {},
   "outputs": [
    {
     "data": {
      "text/plain": [
       "{'Kasi': 'Varanasi, Uttar Pradesh, India'}"
      ]
     },
     "execution_count": 41,
     "metadata": {},
     "output_type": "execute_result"
    }
   ],
   "source": [
    "j_pipe2.invoke(\"what is the location of kasi\")"
   ]
  },
  {
   "cell_type": "code",
   "execution_count": 43,
   "metadata": {},
   "outputs": [
    {
     "data": {
      "text/plain": [
       "{'Kasi': {'country': 'India',\n",
       "  'state': 'Uttar Pradesh',\n",
       "  'city': 'Varanasi',\n",
       "  'transportation': 'The nearest airport is Lal Bahadur Shastri International Airport in Varanasi. From there, you can take a taxi or bus to reach Kasi. You can also take a train to Varanasi Junction railway station and then take a taxi or bus to Kasi.'}}"
      ]
     },
     "execution_count": 43,
     "metadata": {},
     "output_type": "execute_result"
    }
   ],
   "source": [
    "j_pipe2.invoke(\"can u tell me how to go kasi by which?\")"
   ]
  },
  {
   "cell_type": "code",
   "execution_count": 45,
   "metadata": {},
   "outputs": [
    {
     "data": {
      "text/plain": [
       "{'places': [{'name': 'The Grand Canyon',\n",
       "   'location': 'Arizona, United States',\n",
       "   'type': 'Nature'},\n",
       "  {'name': 'Galapagos Islands', 'location': 'Ecuador', 'type': 'Nature'},\n",
       "  {'name': 'Serengeti National Park',\n",
       "   'location': 'Tanzania',\n",
       "   'type': 'Nature'},\n",
       "  {'name': 'Great Barrier Reef', 'location': 'Australia', 'type': 'Nature'},\n",
       "  {'name': 'Banff National Park',\n",
       "   'location': 'Alberta, Canada',\n",
       "   'type': 'Nature'},\n",
       "  {'name': 'Yosemite National Park',\n",
       "   'location': 'California, United States',\n",
       "   'type': 'Nature'},\n",
       "  {'name': 'Machu Picchu', 'location': 'Peru', 'type': 'Nature'},\n",
       "  {'name': 'Zhangjiajie National Forest Park',\n",
       "   'location': 'Hunan, China',\n",
       "   'type': 'Nature'},\n",
       "  {}]}"
      ]
     },
     "execution_count": 45,
     "metadata": {},
     "output_type": "execute_result"
    }
   ],
   "source": [
    "j_pipe2.invoke(\"which places are belongs to nature \")"
   ]
  },
  {
   "cell_type": "code",
   "execution_count": 48,
   "metadata": {},
   "outputs": [],
   "source": [
    "json_prompt2=PromptTemplate.from_template(template=\"Return a JSON object with books and authors skey that answers the following question:{question}\")"
   ]
  },
  {
   "cell_type": "code",
   "execution_count": 49,
   "metadata": {},
   "outputs": [],
   "source": [
    "j_pipe3 = json_prompt2|model|json_parser"
   ]
  },
  {
   "cell_type": "code",
   "execution_count": 50,
   "metadata": {},
   "outputs": [
    {
     "data": {
      "text/plain": [
       "{'book': 'The Alchemist', 'author': 'Paulo Coelho'}"
      ]
     },
     "execution_count": 50,
     "metadata": {},
     "output_type": "execute_result"
    }
   ],
   "source": [
    "j_pipe3.invoke(\"what is the most popular life lessons book \")"
   ]
  },
  {
   "cell_type": "code",
   "execution_count": 53,
   "metadata": {},
   "outputs": [
    {
     "data": {
      "text/plain": [
       "{'book': 'Becoming', 'author': 'Michelle Obama'}"
      ]
     },
     "execution_count": 53,
     "metadata": {},
     "output_type": "execute_result"
    }
   ],
   "source": [
    "j_pipe3.invoke(\" which book is the mostly like to read ?\")"
   ]
  },
  {
   "cell_type": "code",
   "execution_count": 55,
   "metadata": {},
   "outputs": [
    {
     "data": {
      "text/plain": [
       "{'books': {'concept1': 'Plot',\n",
       "  'concept2': 'Character development',\n",
       "  'concept3': 'Theme',\n",
       "  'concept4': 'Setting',\n",
       "  'concept5': 'Point of view'},\n",
       " 'authors': {'concept1': 'J.K. Rowling',\n",
       "  'concept2': 'Stephen King',\n",
       "  'concept3': 'Jane Austen',\n",
       "  'concept4': 'George Orwell',\n",
       "  'concept5': 'Harper Lee'}}"
      ]
     },
     "execution_count": 55,
     "metadata": {},
     "output_type": "execute_result"
    }
   ],
   "source": [
    "j_pipe3.invoke(\"can u provide me concepts of books\")"
   ]
  },
  {
   "cell_type": "code",
   "execution_count": 56,
   "metadata": {},
   "outputs": [
    {
     "data": {
      "text/plain": [
       "{'question': 'Why do we need something different that connects people in books?',\n",
       " 'answer': 'Books offer a unique way to connect people by allowing them to share experiences, perspectives, and emotions. They provide a platform for individuals to relate to one another, regardless of their differences. By reading books, we can gain a deeper understanding of the world, expand our knowledge, and learn empathy. Books also allow us to connect with characters and their journeys, which can inspire and motivate us. Therefore, having something different that connects people in books is essential for fostering meaningful connections and promoting understanding and unity among individuals.'}"
      ]
     },
     "execution_count": 56,
     "metadata": {},
     "output_type": "execute_result"
    }
   ],
   "source": [
    "j_pipe3.invoke(\"why do we need somethimg diifrent that connect to eople in books\")"
   ]
  },
  {
   "cell_type": "code",
   "execution_count": 57,
   "metadata": {},
   "outputs": [
    {
     "data": {
      "text/plain": [
       "{'best book writer': 'It is impossible to determine the best book writer as it is subjective and based on personal preference. Some popular and critically acclaimed authors include J.K. Rowling, Stephen King, Harper Lee, George Orwell, and William Shakespeare.'}"
      ]
     },
     "execution_count": 57,
     "metadata": {},
     "output_type": "execute_result"
    }
   ],
   "source": [
    "j_pipe3.invoke(\"who is the best book writer\")"
   ]
  },
  {
   "cell_type": "code",
   "execution_count": 72,
   "metadata": {},
   "outputs": [],
   "source": [
    "ab=j_pipe3.invoke(\"why we need books \")"
   ]
  },
  {
   "cell_type": "code",
   "execution_count": 73,
   "metadata": {},
   "outputs": [
    {
     "data": {
      "text/plain": [
       "dict"
      ]
     },
     "execution_count": 73,
     "metadata": {},
     "output_type": "execute_result"
    }
   ],
   "source": [
    "type(ab)"
   ]
  },
  {
   "cell_type": "code",
   "execution_count": 74,
   "metadata": {},
   "outputs": [
    {
     "data": {
      "text/plain": [
       "{'books': 'Books are important because they provide a way for people to share their knowledge and experiences with others. They allow us to learn about different cultures, histories, and perspectives, which can broaden our understanding of the world. Books also provide a means for entertainment and escapism, allowing us to explore new worlds and ideas without leaving our own. They can inspire creativity and imagination, and help us develop critical thinking skills. Overall, books are essential for personal growth, education, and the preservation and dissemination of knowledge.',\n",
       " 'authors': 'Authors are crucial to the creation of books, as they are the ones who write and share their ideas and stories with the world. They have the power to influence and shape our thoughts, beliefs, and values through their words. Authors also play a significant role in preserving history and culture, as they document and share their own experiences and perspectives. They can also bring attention to important social and political issues through their writing. Without authors, books would not exist, and we would not have access to the wealth of knowledge and entertainment that books provide.'}"
      ]
     },
     "execution_count": 74,
     "metadata": {},
     "output_type": "execute_result"
    }
   ],
   "source": [
    "ab"
   ]
  },
  {
   "cell_type": "code",
   "execution_count": 76,
   "metadata": {},
   "outputs": [],
   "source": [
    "if len(ab[\"books\"].split()) == 3:\n",
    "    print(ab[\"authors\"].split()[2])"
   ]
  },
  {
   "cell_type": "code",
   "execution_count": 77,
   "metadata": {},
   "outputs": [],
   "source": [
    "from langchain.output_parsers import CommaSeparatedListOutputParser"
   ]
  },
  {
   "cell_type": "code",
   "execution_count": 78,
   "metadata": {},
   "outputs": [],
   "source": [
    "output_parser = CommaSeparatedListOutputParser()"
   ]
  },
  {
   "cell_type": "code",
   "execution_count": 79,
   "metadata": {},
   "outputs": [],
   "source": [
    "format_instructions = output_parser.get_format_instructions()"
   ]
  },
  {
   "cell_type": "code",
   "execution_count": null,
   "metadata": {},
   "outputs": [],
   "source": [
    "prompt = PromptTemplate(\n",
    "template=\"List ten {subject}.\\n{format_instructions}\",\n",
    "input_variables=[\"subject\"],\n",
    "partial_variables={\"format_instructions\": format_instructions}\n",
    ")"
   ]
  },
  {
   "cell_type": "code",
   "execution_count": 89,
   "metadata": {},
   "outputs": [],
   "source": [
    "query = \"top most hit movies in 2023 in telugu\""
   ]
  },
  {
   "cell_type": "code",
   "execution_count": 98,
   "metadata": {},
   "outputs": [
    {
     "data": {
      "text/plain": [
       "'\\n\\n1. RRR - Jr. NTR, Ram Charan\\n2. Pushpa - Allu Arjun, Rashmika Mandanna\\n3. Sarkaru Vaari Paata - Mahesh Babu, Keerthy Suresh\\n4. F3 - Venkatesh, Varun Tej\\n5. Acharya - Chiranjeevi, Kajal Aggarwal'"
      ]
     },
     "execution_count": 98,
     "metadata": {},
     "output_type": "execute_result"
    }
   ],
   "source": [
    "output = model(prompt.format(subject=query))\n",
    "output"
   ]
  },
  {
   "cell_type": "code",
   "execution_count": 99,
   "metadata": {},
   "outputs": [
    {
     "data": {
      "text/plain": [
       "['1. RRR - Jr. NTR',\n",
       " 'Ram Charan',\n",
       " '2. Pushpa - Allu Arjun',\n",
       " 'Rashmika Mandanna',\n",
       " '3. Sarkaru Vaari Paata - Mahesh Babu',\n",
       " 'Keerthy Suresh',\n",
       " '4. F3 - Venkatesh',\n",
       " 'Varun Tej',\n",
       " '5. Acharya - Chiranjeevi',\n",
       " 'Kajal Aggarwal']"
      ]
     },
     "execution_count": 99,
     "metadata": {},
     "output_type": "execute_result"
    }
   ],
   "source": [
    "parsed_result = output_parser.parse(output)\n",
    "parsed_result"
   ]
  },
  {
   "cell_type": "code",
   "execution_count": 113,
   "metadata": {},
   "outputs": [],
   "source": [
    "query = \"top most actors in telugu\""
   ]
  },
  {
   "cell_type": "code",
   "execution_count": 111,
   "metadata": {},
   "outputs": [
    {
     "data": {
      "text/plain": [
       "'\\n\\n1. Mahesh Babu\\n2. Prabhas\\n3. Allu Arjun\\n4. Jr. NTR\\n5. Ram Charan'"
      ]
     },
     "execution_count": 111,
     "metadata": {},
     "output_type": "execute_result"
    }
   ],
   "source": [
    "output = model(prompt.format(subject=query))\n",
    "output"
   ]
  },
  {
   "cell_type": "code",
   "execution_count": 112,
   "metadata": {},
   "outputs": [
    {
     "data": {
      "text/plain": [
       "['1. Mahesh Babu',\n",
       " '2. Prabhas',\n",
       " '3. Allu Arjun',\n",
       " '4. Jr. NTR',\n",
       " '5. Ram Charan']"
      ]
     },
     "execution_count": 112,
     "metadata": {},
     "output_type": "execute_result"
    }
   ],
   "source": [
    "parsed_result = output_parser.parse(output)\n",
    "parsed_result"
   ]
  },
  {
   "cell_type": "code",
   "execution_count": 115,
   "metadata": {},
   "outputs": [],
   "source": [
    "query = \"tell me about the most popular divinee places in telangana\""
   ]
  },
  {
   "cell_type": "code",
   "execution_count": null,
   "metadata": {},
   "outputs": [
    {
     "data": {
      "text/plain": [
       "'\\n\\n1) Charminar, Hyderabad\\n2) Bhadrachalam Temple, Bhadrachalam\\n3) Yadagirigutta Temple, Yadagirigutta\\n4) Kaleshwaram Temple, Kaleshwaram\\n5) Medak Cathedral, Medak'"
      ]
     },
     "execution_count": 116,
     "metadata": {},
     "output_type": "execute_result"
    }
   ],
   "source": [
    "output = model(prompt.format(subject=query))\n",
    "output"
   ]
  },
  {
   "cell_type": "code",
   "execution_count": 117,
   "metadata": {},
   "outputs": [
    {
     "data": {
      "text/plain": [
       "['1) Charminar',\n",
       " 'Hyderabad',\n",
       " '2) Bhadrachalam Temple',\n",
       " 'Bhadrachalam',\n",
       " '3) Yadagirigutta Temple',\n",
       " 'Yadagirigutta',\n",
       " '4) Kaleshwaram Temple',\n",
       " 'Kaleshwaram',\n",
       " '5) Medak Cathedral',\n",
       " 'Medak']"
      ]
     },
     "execution_count": 117,
     "metadata": {},
     "output_type": "execute_result"
    }
   ],
   "source": [
    "parsed_result = output_parser.parse(output)\n",
    "parsed_result"
   ]
  },
  {
   "cell_type": "code",
   "execution_count": 123,
   "metadata": {},
   "outputs": [],
   "source": [
    "query = \"provide 2023 IPL match scores in detail\""
   ]
  },
  {
   "cell_type": "code",
   "execution_count": 124,
   "metadata": {},
   "outputs": [
    {
     "data": {
      "text/plain": [
       "\"\\n\\n1. Mumbai Indians vs Chennai Super Kings: MI (208/5) defeated CSK (202/7) by 6 runs. MI's opener Quinton de Kock scored a blistering 94 runs off 50 balls, helping his team reach a formidable total. CSK's Faf du Plessis put up a valiant effort with 87 runs, but it wasn't enough to secure a win for his team.\\n\\n2. Delhi Capitals vs Royal Challengers Bangalore: RCB (171/5) defeated DC (170/4) by 5 wickets. RCB's all-rounder Glenn Maxwell played a crucial role in the victory, scoring 56 runs and taking 2 wickets. DC's skipper Rishabh Pant's 58 off 48 balls went in vain as RCB chased down the target with 5 balls to spare.\\n\\n3. Kolkata Knight Riders vs Sunrisers Hyderabad: KKR (187/6) defeated SRH (177/5) by 10 runs. KKR's Nitish Rana and Eoin Morgan put up a solid partnership of 121 runs to help their team reach a competitive total. SRH's Jason Holder's 47 off 27 balls and Manish Pand\""
      ]
     },
     "execution_count": 124,
     "metadata": {},
     "output_type": "execute_result"
    }
   ],
   "source": [
    "output = model(prompt.format(subject=query))\n",
    "output"
   ]
  },
  {
   "cell_type": "code",
   "execution_count": 125,
   "metadata": {},
   "outputs": [
    {
     "data": {
      "text/plain": [
       "[\"1. Mumbai Indians vs Chennai Super Kings: MI (208/5) defeated CSK (202/7) by 6 runs. MI's opener Quinton de Kock scored a blistering 94 runs off 50 balls\",\n",
       " \"helping his team reach a formidable total. CSK's Faf du Plessis put up a valiant effort with 87 runs\",\n",
       " \"but it wasn't enough to secure a win for his team.\",\n",
       " \"2. Delhi Capitals vs Royal Challengers Bangalore: RCB (171/5) defeated DC (170/4) by 5 wickets. RCB's all-rounder Glenn Maxwell played a crucial role in the victory\",\n",
       " \"scoring 56 runs and taking 2 wickets. DC's skipper Rishabh Pant's 58 off 48 balls went in vain as RCB chased down the target with 5 balls to spare.\",\n",
       " \"3. Kolkata Knight Riders vs Sunrisers Hyderabad: KKR (187/6) defeated SRH (177/5) by 10 runs. KKR's Nitish Rana and Eoin Morgan put up a solid partnership of 121 runs to help their team reach a competitive total. SRH's Jason Holder's 47 off 27 balls and Manish Pand\"]"
      ]
     },
     "execution_count": 125,
     "metadata": {},
     "output_type": "execute_result"
    }
   ],
   "source": [
    "parsed_result = output_parser.parse(output)\n",
    "parsed_result"
   ]
  },
  {
   "cell_type": "code",
   "execution_count": 126,
   "metadata": {},
   "outputs": [],
   "source": [
    " query = \"top most populated cities in the world\"\n"
   ]
  },
  {
   "cell_type": "code",
   "execution_count": 127,
   "metadata": {},
   "outputs": [
    {
     "data": {
      "text/plain": [
       "'\\n\\n1. Tokyo, Japan\\n2. Delhi, India\\n3. Shanghai, China\\n4. Beijing, China\\n5. Mumbai, India'"
      ]
     },
     "execution_count": 127,
     "metadata": {},
     "output_type": "execute_result"
    }
   ],
   "source": [
    "output = model(prompt.format(subject=query))\n",
    "output"
   ]
  },
  {
   "cell_type": "code",
   "execution_count": 128,
   "metadata": {},
   "outputs": [
    {
     "data": {
      "text/plain": [
       "['1. Tokyo',\n",
       " 'Japan',\n",
       " '2. Delhi',\n",
       " 'India',\n",
       " '3. Shanghai',\n",
       " 'China',\n",
       " '4. Beijing',\n",
       " 'China',\n",
       " '5. Mumbai',\n",
       " 'India']"
      ]
     },
     "execution_count": 128,
     "metadata": {},
     "output_type": "execute_result"
    }
   ],
   "source": [
    "parsed_result = output_parser.parse(output)\n",
    "parsed_result"
   ]
  },
  {
   "cell_type": "code",
   "execution_count": 129,
   "metadata": {},
   "outputs": [],
   "source": [
    "query = \" top most visited tourist places in India\""
   ]
  },
  {
   "cell_type": "code",
   "execution_count": 130,
   "metadata": {},
   "outputs": [
    {
     "data": {
      "text/plain": [
       "'\\n\\n1. Taj Mahal, Agra\\n2. Golden Temple, Amritsar\\n3. Goa beaches, Goa\\n4. Red Fort, Delhi\\n5. Hawa Mahal, Jaipur'"
      ]
     },
     "execution_count": 130,
     "metadata": {},
     "output_type": "execute_result"
    }
   ],
   "source": [
    "output = model(prompt.format(subject=query))\n",
    "output"
   ]
  },
  {
   "cell_type": "code",
   "execution_count": 131,
   "metadata": {},
   "outputs": [
    {
     "data": {
      "text/plain": [
       "['1. Taj Mahal',\n",
       " 'Agra',\n",
       " '2. Golden Temple',\n",
       " 'Amritsar',\n",
       " '3. Goa beaches',\n",
       " 'Goa',\n",
       " '4. Red Fort',\n",
       " 'Delhi',\n",
       " '5. Hawa Mahal',\n",
       " 'Jaipur']"
      ]
     },
     "execution_count": 131,
     "metadata": {},
     "output_type": "execute_result"
    }
   ],
   "source": [
    "parsed_result = output_parser.parse(output)\n",
    "parsed_result"
   ]
  },
  {
   "cell_type": "code",
   "execution_count": 132,
   "metadata": {},
   "outputs": [],
   "source": [
    "query = \"top most snowfall places in india\""
   ]
  },
  {
   "cell_type": "code",
   "execution_count": 133,
   "metadata": {},
   "outputs": [
    {
     "data": {
      "text/plain": [
       "'\\n\\n1. Gulmarg, Jammu and Kashmir\\n2. Auli, Uttarakhand\\n3. Manali, Himachal Pradesh\\n4. Sonamarg, Jammu and Kashmir\\n5. Shimla, Himachal Pradesh'"
      ]
     },
     "execution_count": 133,
     "metadata": {},
     "output_type": "execute_result"
    }
   ],
   "source": [
    "output = model(prompt.format(subject=query))\n",
    "output"
   ]
  },
  {
   "cell_type": "code",
   "execution_count": 134,
   "metadata": {},
   "outputs": [
    {
     "data": {
      "text/plain": [
       "['1. Gulmarg',\n",
       " 'Jammu and Kashmir',\n",
       " '2. Auli',\n",
       " 'Uttarakhand',\n",
       " '3. Manali',\n",
       " 'Himachal Pradesh',\n",
       " '4. Sonamarg',\n",
       " 'Jammu and Kashmir',\n",
       " '5. Shimla',\n",
       " 'Himachal Pradesh']"
      ]
     },
     "execution_count": 134,
     "metadata": {},
     "output_type": "execute_result"
    }
   ],
   "source": [
    "parsed_result = output_parser.parse(output)\n",
    "parsed_result"
   ]
  },
  {
   "cell_type": "code",
   "execution_count": 135,
   "metadata": {},
   "outputs": [],
   "source": [
    "query = \"top most difficult entrance exams in india\""
   ]
  },
  {
   "cell_type": "code",
   "execution_count": null,
   "metadata": {},
   "outputs": [
    {
     "data": {
      "text/plain": [
       "'\\n\\n1. Joint Entrance Examination (JEE) Advanced\\n2. All India Institute of Medical Sciences (AIIMS) MBBS Entrance Exam\\n3. Common Admission Test (CAT) for Indian Institutes of Management (IIMs)\\n4. National Eligibility cum Entrance Test (NEET) for undergraduate medical courses\\n5. Graduate Aptitude Test in Engineering (GATE) for admission to postgraduate engineering courses'"
      ]
     },
     "execution_count": 136,
     "metadata": {},
     "output_type": "execute_result"
    }
   ],
   "source": [
    "output = model(prompt.format(subject=query))\n",
    "output"
   ]
  },
  {
   "cell_type": "code",
   "execution_count": 137,
   "metadata": {},
   "outputs": [
    {
     "data": {
      "text/plain": [
       "['1. Joint Entrance Examination (JEE) Advanced',\n",
       " '2. All India Institute of Medical Sciences (AIIMS) MBBS Entrance Exam',\n",
       " '3. Common Admission Test (CAT) for Indian Institutes of Management (IIMs)',\n",
       " '4. National Eligibility cum Entrance Test (NEET) for undergraduate medical courses',\n",
       " '5. Graduate Aptitude Test in Engineering (GATE) for admission to postgraduate engineering courses']"
      ]
     },
     "execution_count": 137,
     "metadata": {},
     "output_type": "execute_result"
    }
   ],
   "source": [
    "parsed_result = output_parser.parse(output)\n",
    "parsed_result"
   ]
  },
  {
   "cell_type": "code",
   "execution_count": 138,
   "metadata": {},
   "outputs": [],
   "source": [
    "query = \"top most educated cities in india\""
   ]
  },
  {
   "cell_type": "code",
   "execution_count": 139,
   "metadata": {},
   "outputs": [
    {
     "data": {
      "text/plain": [
       "'\\n\\n1. Bengaluru, Karnataka\\n2. Chennai, Tamil Nadu\\n3. Pune, Maharashtra\\n4. Hyderabad, Telangana\\n5. Delhi, Delhi'"
      ]
     },
     "execution_count": 139,
     "metadata": {},
     "output_type": "execute_result"
    }
   ],
   "source": [
    "output = model(prompt.format(subject=query))\n",
    "output"
   ]
  },
  {
   "cell_type": "code",
   "execution_count": 140,
   "metadata": {},
   "outputs": [
    {
     "data": {
      "text/plain": [
       "['1. Bengaluru',\n",
       " 'Karnataka',\n",
       " '2. Chennai',\n",
       " 'Tamil Nadu',\n",
       " '3. Pune',\n",
       " 'Maharashtra',\n",
       " '4. Hyderabad',\n",
       " 'Telangana',\n",
       " '5. Delhi',\n",
       " 'Delhi']"
      ]
     },
     "execution_count": 140,
     "metadata": {},
     "output_type": "execute_result"
    }
   ],
   "source": [
    "parsed_result = output_parser.parse(output)\n",
    "parsed_result"
   ]
  }
 ],
 "metadata": {
  "kernelspec": {
   "display_name": "Python 3",
   "language": "python",
   "name": "python3"
  },
  "language_info": {
   "codemirror_mode": {
    "name": "ipython",
    "version": 3
   },
   "file_extension": ".py",
   "mimetype": "text/x-python",
   "name": "python",
   "nbconvert_exporter": "python",
   "pygments_lexer": "ipython3",
   "version": "3.11.5"
  }
 },
 "nbformat": 4,
 "nbformat_minor": 2
}
