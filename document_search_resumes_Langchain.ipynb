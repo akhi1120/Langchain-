{
 "cells": [
  {
   "cell_type": "markdown",
   "id": "d9c38c2b-88dc-4ba2-a590-e962edae712c",
   "metadata": {},
   "source": [
    "# Document Question and Answering using Langchain"
   ]
  },
  {
   "cell_type": "markdown",
   "id": "ce5f7276-73e8-466c-acbc-6f7eb88eb2c9",
   "metadata": {},
   "source": [
    "# Set Key in environment"
   ]
  },
  {
   "cell_type": "code",
   "execution_count": 1,
   "id": "1cd4767c-b649-4cfb-a7eb-b971ceecfc71",
   "metadata": {},
   "outputs": [],
   "source": [
    "import os\n",
    "os.environ[\"OPENAI_API_KEY\"]=\"Your API Key\""
   ]
  },
  {
   "cell_type": "markdown",
   "id": "2624e6e3-f096-4243-b099-5c8caa47fec8",
   "metadata": {},
   "source": [
    "# Load documents"
   ]
  },
  {
   "cell_type": "code",
   "execution_count": 2,
   "id": "a01c2206-6914-41f4-a104-c808ed6a63a2",
   "metadata": {},
   "outputs": [],
   "source": [
    "from langchain.document_loaders import PyPDFLoader"
   ]
  },
  {
   "cell_type": "code",
   "execution_count": 3,
   "id": "2e7cfe68-f512-4a64-9eab-0a44d1b48850",
   "metadata": {},
   "outputs": [],
   "source": [
    "from langchain.document_loaders import PyPDFLoader, PyPDFDirectoryLoader"
   ]
  },
  {
   "cell_type": "code",
   "execution_count": 4,
   "id": "d16f63f4-f439-40df-ae18-1732819c0532",
   "metadata": {},
   "outputs": [
    {
     "name": "stderr",
     "output_type": "stream",
     "text": [
      "incorrect startxref pointer(3)\n"
     ]
    }
   ],
   "source": [
    "documents = PyPDFDirectoryLoader(\"C:\\\\Users\\\\akhil\\\\Downloads\\\\Gen-AI_Internship\\\\testingresumes\").load()"
   ]
  },
  {
   "cell_type": "code",
   "execution_count": 5,
   "id": "1e2d1753-63e9-41f8-85ee-f416669bb611",
   "metadata": {},
   "outputs": [],
   "source": [
    "#documents"
   ]
  },
  {
   "cell_type": "markdown",
   "id": "8e0a6e20-39eb-446f-a5a0-dc416cd7a2ad",
   "metadata": {},
   "source": [
    "# Initiate LLM"
   ]
  },
  {
   "cell_type": "code",
   "execution_count": 6,
   "id": "5a853082-1a24-43d3-99e2-309642c9559b",
   "metadata": {},
   "outputs": [],
   "source": [
    "from langchain_openai import OpenAI\n",
    "\n",
    "llm = OpenAI()"
   ]
  },
  {
   "cell_type": "code",
   "execution_count": 7,
   "id": "c68aeead-8049-4f13-b713-c6ba98dce4fe",
   "metadata": {
    "scrolled": true
   },
   "outputs": [],
   "source": [
    "#!pip install langchain_openai"
   ]
  },
  {
   "cell_type": "code",
   "execution_count": 8,
   "id": "4a738645-4e74-40f9-a771-01e04b582292",
   "metadata": {},
   "outputs": [],
   "source": [
    "#!pip install openai==1.54.0 langchain-core==0.3.17"
   ]
  },
  {
   "cell_type": "markdown",
   "id": "640f9c44-e6d3-4ff5-83af-23231f3e1a49",
   "metadata": {},
   "source": [
    "# Initiate retriever"
   ]
  },
  {
   "cell_type": "code",
   "execution_count": 9,
   "id": "5ad92828-50af-4b19-9d4e-d4726b47a9a7",
   "metadata": {},
   "outputs": [],
   "source": [
    "from langchain_core.vectorstores import InMemoryVectorStore\n",
    "from langchain_openai import OpenAIEmbeddings\n",
    "#from langchain.embeddings import OpenAIEmbeddings\n",
    "from langchain_text_splitters import RecursiveCharacterTextSplitter\n",
    "\n",
    "text_splitter = RecursiveCharacterTextSplitter(chunk_size=1000, chunk_overlap=200)\n",
    "splits = text_splitter.split_documents(documents)\n",
    "vectorstore = InMemoryVectorStore.from_documents(\n",
    "    documents=splits, embedding=OpenAIEmbeddings()\n",
    ")\n",
    "\n",
    "retriever = vectorstore.as_retriever()"
   ]
  },
  {
   "cell_type": "markdown",
   "id": "489bb824-9b5f-48f6-b9eb-469ffd82d671",
   "metadata": {},
   "source": [
    "# Retrieve related documents from the question"
   ]
  },
  {
   "cell_type": "code",
   "execution_count": 10,
   "id": "2fc6beec-b422-4852-bc2f-b3235be0090f",
   "metadata": {},
   "outputs": [],
   "source": [
    "retrieved_documents = retriever.invoke(\"Provide names of all people?\")"
   ]
  },
  {
   "cell_type": "code",
   "execution_count": 11,
   "id": "f594a4bd-fa56-4634-a5b4-3d307ef342e6",
   "metadata": {},
   "outputs": [
    {
     "data": {
      "text/plain": [
       "'•\\nLeadership\\nQualities,\\nSmart\\nWorker,\\nSincere.\\n•\\nPassion\\non\\nlearn\\nnew\\nthings.\\n•\\nExpressive\\nCommunication\\nSkills.\\n•\\nConfidence,\\nadaptability\\nnature. \\nTechnical\\nSkills:\\n•\\nHTML\\n•\\nCSS\\n•\\nJAVA\\nSCRIPT\\n•\\nREACT\\nJS\\nPersonal\\nProfile:\\nName\\n:\\nBatchu\\nNagaSanthi\\nSri\\nFather’s\\nname\\n:\\nBatchu\\nSubramanayeswara\\nRao\\nDOB\\n:\\n16-02-2002\\nNationality\\n:\\nIndian\\nHeight\\n:\\n5.2\\nWeight\\n:\\n45\\nLanguages\\nKnown\\n:\\nEnglish,\\nTelugu\\nMarital\\nStatus\\n:\\nSingle\\nHobbies\\n:\\nlistening\\nto\\nmusic\\nand\\nwatching\\nTV\\nGames\\n:\\nKabaddi\\nGender\\n:\\nFemale\\nDeclaration:\\nI\\nhereby\\ndeclare\\nthat\\nthe\\ninformation\\nprovided\\nby\\nme\\nis\\ntrue\\nand\\ncorrect\\nto\\nthe \\nbest\\nof\\nmy\\nknowledge\\nand\\nbelief.\\nPlace:\\nAvanigadda,\\nB.\\nSanthi'"
      ]
     },
     "execution_count": 11,
     "metadata": {},
     "output_type": "execute_result"
    }
   ],
   "source": [
    "retrieved_documents[1].page_content"
   ]
  },
  {
   "cell_type": "code",
   "execution_count": 12,
   "id": "1864adf4-04a3-4ed4-b332-3f8c884c6325",
   "metadata": {},
   "outputs": [],
   "source": [
    "ret_doc=''\n",
    "for i1 in retrieved_documents:\n",
    "    ret_doc = ret_doc+i1.page_content"
   ]
  },
  {
   "cell_type": "markdown",
   "id": "c4838043-5ce5-48d7-9b9e-230817ad31d5",
   "metadata": {},
   "source": [
    "# Make a prompt and ask question from the retrieved documents"
   ]
  },
  {
   "cell_type": "code",
   "execution_count": 14,
   "id": "922d8805-2cf4-47dc-883a-2200172cb2d6",
   "metadata": {},
   "outputs": [
    {
     "data": {
      "text/plain": [
       "' - Jahnavi Yarramsetty, NagaSanthi Sri Batchu'"
      ]
     },
     "execution_count": 14,
     "metadata": {},
     "output_type": "execute_result"
    }
   ],
   "source": [
    "llm.invoke(f\"provide me developer names from this text {ret_doc} in csv format\")\n"
   ]
  }
 ],
 "metadata": {
  "kernelspec": {
   "display_name": "Python 3",
   "language": "python",
   "name": "python3"
  },
  "language_info": {
   "codemirror_mode": {
    "name": "ipython",
    "version": 3
   },
   "file_extension": ".py",
   "mimetype": "text/x-python",
   "name": "python",
   "nbconvert_exporter": "python",
   "pygments_lexer": "ipython3",
   "version": "3.11.5"
  }
 },
 "nbformat": 4,
 "nbformat_minor": 5
}
