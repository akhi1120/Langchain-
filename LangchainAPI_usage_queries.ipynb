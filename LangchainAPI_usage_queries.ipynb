{
 "cells": [
  {
   "cell_type": "markdown",
   "metadata": {},
   "source": [
    "# setting environmental key"
   ]
  },
  {
   "cell_type": "code",
   "execution_count": 1,
   "metadata": {},
   "outputs": [],
   "source": [
    "import os\n",
    "#os.environ[\"OPENAI_API_KEY\"]=\"\"\n",
    "os.environ[\"OPENAI_API_KEY\"]=\"Your API Key\""
   ]
  },
  {
   "cell_type": "code",
   "execution_count": 2,
   "metadata": {},
   "outputs": [],
   "source": [
    "from langchain.llms import OpenAI"
   ]
  },
  {
   "cell_type": "markdown",
   "metadata": {},
   "source": [
    "# Initialize the OpenAI model"
   ]
  },
  {
   "cell_type": "code",
   "execution_count": 3,
   "metadata": {},
   "outputs": [
    {
     "name": "stderr",
     "output_type": "stream",
     "text": [
      "C:\\Users\\akhil\\AppData\\Local\\Temp\\ipykernel_20204\\2716716714.py:1: LangChainDeprecationWarning: The class `OpenAI` was deprecated in LangChain 0.0.10 and will be removed in 1.0. An updated version of the class exists in the :class:`~langchain-openai package and should be used instead. To use it run `pip install -U :class:`~langchain-openai` and import as `from :class:`~langchain_openai import OpenAI``.\n",
      "  model = OpenAI()\n"
     ]
    }
   ],
   "source": [
    "model = OpenAI()"
   ]
  },
  {
   "cell_type": "markdown",
   "metadata": {},
   "source": [
    "# Ask the queries"
   ]
  },
  {
   "cell_type": "code",
   "execution_count": 4,
   "metadata": {},
   "outputs": [
    {
     "data": {
      "text/plain": [
       "'\\n\\nScience technology is the application of scientific knowledge and principles to create useful products and processes that improve the quality of life for humans. It involves the use of tools, methods, and materials to solve problems and make advancements in various fields such as healthcare, communication, transportation, and energy.\\n\\nOne of the key features of science technology is its constant evolution and innovation. Scientists and researchers are always pushing the boundaries of what is possible, leading to new discoveries and inventions that improve our understanding of the world and help us find solutions to complex problems.\\n\\nIn the field of medicine, science technology has led to the development of new drugs, medical devices, and treatments that have improved the diagnosis and treatment of diseases. For example, the use of artificial intelligence in healthcare has enabled faster and more accurate diagnosis, while advancements in biotechnology have led to the creation of vaccines and life-saving treatments.\\n\\nIn the field of communication, science technology has revolutionized how we connect and share information. The development of the internet, smartphones, and social media platforms has made it possible for people to communicate and access information from anywhere in the world.\\n\\nScience technology has also played a crucial role in the transportation industry, making travel faster, safer, and more convenient. From airplanes and cars to high-speed trains and space shutt'"
      ]
     },
     "execution_count": 4,
     "metadata": {},
     "output_type": "execute_result"
    }
   ],
   "source": [
    "model.invoke(\"as a science student provide me overview of the science technology\")"
   ]
  },
  {
   "cell_type": "code",
   "execution_count": 5,
   "metadata": {},
   "outputs": [
    {
     "data": {
      "text/plain": [
       "'\\n\\n1. Tylenol\\n2. Advil\\n3. Motrin\\n4. Aleve\\n5. Aspirin\\n6. Ibuprofen\\n7. Naproxen\\n8. Acetaminophen\\n9. Paracetamol\\n10. Panadol\\n11. Excedrin\\n12. DayQuil\\n13. NyQuil\\n14. Bayer\\n15. Bufferin\\n16. Anacin\\n17. Robitussin\\n18. Theraflu\\n19. Alka-Seltzer\\n20. Sudafed.'"
      ]
     },
     "execution_count": 5,
     "metadata": {},
     "output_type": "execute_result"
    }
   ],
   "source": [
    "model.invoke(\"give me name entities of the medicines for fever\")"
   ]
  },
  {
   "cell_type": "code",
   "execution_count": 6,
   "metadata": {},
   "outputs": [
    {
     "data": {
      "text/plain": [
       "'\\n\\n1. Understand the problem: The first step in building a machine learning model is to fully understand the problem you are trying to solve. This includes identifying the type of problem (classification, regression, clustering, etc.), the data available, and the desired outcome.\\n\\n2. Collect and clean the data: Machine learning models require a large amount of high-quality data to train on. As a data scientist, your job is to collect and clean the data to make sure it is free from errors and inconsistencies. This includes handling missing values, removing outliers, and transforming the data into a format that can be used by the model.\\n\\n3. Explore and visualize the data: Before building a model, it is important to get a good understanding of the data by exploring and visualizing it. This can help identify patterns, relationships, and potential problems with the data that may affect the performance of the model.\\n\\n4. Choose the right algorithm: There are various machine learning algorithms available, each with its own strengths and weaknesses. As a data scientist, it is important to understand the different algorithms and choose the one that is best suited for your problem.\\n\\n5. Preprocess the data: Once you have chosen an algorithm, you need to preprocess the data to prepare it for the model. This may'"
      ]
     },
     "execution_count": 6,
     "metadata": {},
     "output_type": "execute_result"
    }
   ],
   "source": [
    "model.invoke(\"as a fresher data scientist how to build a machine learning models\")"
   ]
  },
  {
   "cell_type": "code",
   "execution_count": 7,
   "metadata": {},
   "outputs": [
    {
     "data": {
      "text/plain": [
       "\"\\n\\nThe history of human beings in ancient days is a vast and complex topic that spans millions of years and encompasses a wide range of cultures, civilizations, and developments. In this brief overview, we will focus on some of the major events and developments that shaped the lives of ancient humans.\\n\\nThe earliest known human ancestors, known as hominins, appeared in Africa around 6 million years ago. These early hominins, such as Australopithecus and Homo habilis, were bipedal and had the ability to use tools. Over time, these early humans evolved into different species, including Homo erectus, Neanderthals, and eventually Homo sapiens, or modern humans.\\n\\nAround 10,000 BC, the Neolithic Revolution began, marking a major turning point in human history. This period saw the transition from a nomadic, hunter-gatherer lifestyle to a more sedentary lifestyle based on agriculture and domestication of animals. This led to the development of permanent settlements and the rise of early civilizations in Mesopotamia, Egypt, and the Indus Valley.\\n\\nAncient Egypt, one of the world's earliest civilizations, emerged around 3150 BC and lasted for over 3,000 years. The ancient Egyptians were known for their\""
      ]
     },
     "execution_count": 7,
     "metadata": {},
     "output_type": "execute_result"
    }
   ],
   "source": [
    "model.invoke(\"give me history of the human beings in ancient days in two pages \")"
   ]
  },
  {
   "cell_type": "code",
   "execution_count": 8,
   "metadata": {},
   "outputs": [
    {
     "data": {
      "text/plain": [
       "'\\n\\nThe importance of life and its values cannot be overstated. Life is a precious gift that should be treasured and valued. It is a unique and irreplaceable experience that offers endless opportunities for growth, joy, and fulfillment. Without life, there would be no existence, no consciousness, no emotions, and no connections with others.\\n\\nValues, on the other hand, are the principles and beliefs that guide our choices, actions, and behaviors. They are the foundation of our character and shape our attitudes and perspectives. Values give meaning and purpose to our lives and help us make sense of the world around us.\\n\\nHere are some reasons why life and its values are important:\\n\\n1. Gives Meaning and Purpose: Life is full of meaningful experiences, relationships, and achievements. It offers us the chance to make a positive impact on the world and leave a lasting legacy. Values, such as compassion, honesty, and integrity, give us a sense of purpose and guide us towards living a fulfilling life.\\n\\n2. Promotes Personal Growth: Life is a journey of growth and self-discovery. Our values act as a compass, steering us towards our goals and helping us overcome challenges. They also encourage us to constantly improve ourselves and become the best version of ourselves.\\n\\n3. Builds Strong'"
      ]
     },
     "execution_count": 8,
     "metadata": {},
     "output_type": "execute_result"
    }
   ],
   "source": [
    "model.invoke(\"tell me importance of the life and its vales\")"
   ]
  },
  {
   "cell_type": "code",
   "execution_count": 9,
   "metadata": {},
   "outputs": [
    {
     "data": {
      "text/plain": [
       "'\\n\\n1. Communication: Technology has made communication faster, easier and more convenient. People can now connect with each other instantly through various devices and platforms.\\n\\n2. Transportation: Technology has revolutionized transportation, making it easier and faster for people to travel and transport goods. This is essential for trade, commerce and to access essential goods and services.\\n\\n3. Healthcare: Technology has greatly improved healthcare, from advanced medical equipment to electronic health records. It has also enabled remote consultations and telemedicine, making healthcare more accessible and efficient.\\n\\n4. Education: Technology has transformed the way we learn and access information. It has made education more accessible and flexible, with online courses and digital learning platforms.\\n\\n5. Food production: Technology has greatly improved agriculture and food production, making it possible to produce more food with less resources. This is crucial for feeding the growing global population.\\n\\n6. Safety and security: Technology has improved safety and security in many ways, from surveillance systems to emergency response systems. It helps people feel more secure and protected in their daily lives.\\n\\n7. Work productivity: Technology has made work more efficient and productive, with the help of advanced tools and software. This has enabled people to do more in less time, increasing their standard of living.\\n\\n8. Entertainment: Technology provides various forms'"
      ]
     },
     "execution_count": 9,
     "metadata": {},
     "output_type": "execute_result"
    }
   ],
   "source": [
    "model.invoke(\"why human needs technolgy to survive\")"
   ]
  },
  {
   "cell_type": "markdown",
   "metadata": {},
   "source": [
    "# Importing chatOpenAI"
   ]
  },
  {
   "cell_type": "code",
   "execution_count": 10,
   "metadata": {},
   "outputs": [
    {
     "name": "stderr",
     "output_type": "stream",
     "text": [
      "C:\\Users\\akhil\\AppData\\Local\\Temp\\ipykernel_20204\\365326357.py:2: LangChainDeprecationWarning: The class `ChatOpenAI` was deprecated in LangChain 0.0.10 and will be removed in 1.0. An updated version of the class exists in the :class:`~langchain-openai package and should be used instead. To use it run `pip install -U :class:`~langchain-openai` and import as `from :class:`~langchain_openai import ChatOpenAI``.\n",
      "  chat=ChatOpenAI()\n"
     ]
    }
   ],
   "source": [
    "from langchain.chat_models import ChatOpenAI\n",
    "chat=ChatOpenAI()"
   ]
  },
  {
   "cell_type": "code",
   "execution_count": 11,
   "metadata": {},
   "outputs": [
    {
     "name": "stdout",
     "output_type": "stream",
     "text": [
      "Science is the systematic study of the natural world through observation, experimentation, and analysis. It encompasses various disciplines such as biology, chemistry, physics, and environmental science, among others. The primary goal of science is to understand how the world works, through the development of theories and models that can explain natural phenomena. By following the scientific method, researchers can gather evidence, test hypotheses, and draw conclusions based on empirical data. This rigorous approach allows for the accumulation of knowledge and the advancement of technology and innovation.\n",
      "\n",
      "The importance of science cannot be overstated, as it has a profound impact on virtually every aspect of modern life. Scientific research has led to groundbreaking discoveries in medicine, technology, agriculture, and environmental conservation, improving the quality of life for billions of people worldwide. From the development of life-saving vaccines to the exploration of outer space, science plays a crucial role in shaping our understanding of the world and driving progress. By fostering critical thinking skills and encouraging curiosity, science also empowers individuals to make informed decisions and contribute to a more sustainable and prosperous society.\n"
     ]
    }
   ],
   "source": [
    "from langchain.schema.messages import HumanMessage,SystemMessage\n",
    "messages=[\n",
    " SystemMessage(content=\"as a science student\"),\n",
    " HumanMessage(content=\"explain about science and its uses, importance in two paragraphs\"),\n",
    "]\n",
    "responses=chat.invoke(messages)\n",
    "print(responses.content)\n"
   ]
  },
  {
   "cell_type": "code",
   "execution_count": 12,
   "metadata": {},
   "outputs": [
    {
     "name": "stdout",
     "output_type": "stream",
     "text": [
      "The bond between a brother and a sister is a unique and special relationship that is often characterized by love, support, and understanding. This bond is formed from the moment they are born and continues to grow and evolve throughout their lives. Brothers and sisters share a deep connection that is built on shared experiences, memories, and a strong sense of family.\n",
      "\n",
      "One of the key aspects of the brother-sister bond is the unconditional love and support that they provide for each other. Brothers and sisters are often each other's biggest cheerleaders, offering encouragement and reassurance in times of need. They stand by each other through thick and thin, offering a shoulder to cry on or a listening ear when needed. This unwavering support creates a sense of security and comfort in the relationship, knowing that there is always someone there for you, no matter what.\n",
      "\n",
      "Another important aspect of the brother-sister bond is the shared experiences and memories that they create together. Growing up together, brothers and sisters often share adventures, milestones, and challenges that help to strengthen their bond. These shared experiences create a sense of camaraderie and closeness that is unique to sibling relationships. Whether it's playing together as children, navigating the ups and downs of adolescence, or supporting each other through adulthood, these shared experiences form the foundation of the brother-sister bond.\n",
      "\n",
      "Communication is also a key component of the brother-sister bond. Brothers and sisters often have a special way of communicating with each other, whether it's through inside jokes, shared interests, or simply being able to understand each other without saying a word. This open and honest communication helps to build trust and understanding in the relationship, allowing brothers and sisters to truly connect on a deeper level.\n",
      "\n",
      "In addition to love, support, shared experiences, and communication, the brother-sister bond is also characterized by a unique dynamic of playful teasing and friendly competition. Siblings often have a special way of pushing each other's buttons, but it's all in good fun and serves to strengthen their relationship. Whether it's playfully teasing each other about past mistakes or engaging in friendly competitions, this dynamic adds an element of fun and lightheartedness to the bond between brothers and sisters.\n",
      "\n",
      "Overall, the bond between a brother and a sister is a special and irreplaceable relationship that is built on love, support, shared experiences, communication, and a unique dynamic of playful teasing and friendly competition. This bond is a lifelong connection that continues to grow and evolve over time, creating a sense of closeness and understanding that is truly special. Brothers and sisters have a bond that is unlike any other, and it is a relationship that is cherished and treasured for a lifetime.\n"
     ]
    }
   ],
   "source": [
    "from langchain.schema.messages import HumanMessage,SystemMessage\n",
    "messages=[\n",
    " SystemMessage(content=\"as a sister\"),\n",
    " HumanMessage(content=\"explain about brother sister bonding in two pages\"),\n",
    "]\n",
    "responses=chat.invoke(messages)\n",
    "print(responses.content)\n"
   ]
  },
  {
   "cell_type": "code",
   "execution_count": 13,
   "metadata": {},
   "outputs": [
    {
     "name": "stdout",
     "output_type": "stream",
     "text": [
      "When capturing memories while traveling to different places, it's important to fully immerse yourself in the experience and be present in the moment. Here are some tips on how to truly feel things and capture memories effectively:\n",
      "\n",
      "1. Be Mindful: Take the time to truly observe and appreciate your surroundings. Engage all your senses - notice the sights, sounds, smells, tastes, and textures of the place you are visiting.\n",
      "\n",
      "2. Slow Down: Don't rush through your travels. Take your time to explore and soak in the atmosphere of each place. Allow yourself to feel the emotions that come up as you experience new things.\n",
      "\n",
      "3. Keep a Journal: Write down your thoughts, feelings, and observations in a journal or travel diary. This will help you remember the details of your trip and reflect on your experiences later.\n",
      "\n",
      "4. Take Photographs: Use your camera to capture moments that resonate with you emotionally. Look for unique angles, interesting compositions, and lighting to convey the mood of the place.\n",
      "\n",
      "5. Interact with Locals: Engaging with locals can give you a deeper insight into the culture and lifestyle of the place you are visiting. Listen to their stories, try local food, and participate in cultural activities to create meaningful memories.\n",
      "\n",
      "6. Reflect and Appreciate: Take time to reflect on your experiences at the end of each day. Think about what you learned, what moved you, and what you are grateful for. Appreciating the moments you have lived will help you to feel more connected to each place you visit.\n",
      "\n",
      "By being present, observant, and open to new experiences, you can capture memories that are not just visual but deeply felt. Travel is not just about seeing new places but also about feeling and connecting with the world around you.\n"
     ]
    }
   ],
   "source": [
    "from langchain.schema.messages import HumanMessage,SystemMessage\n",
    "messages=[\n",
    " SystemMessage(content=\"as a traveller \"),\n",
    " HumanMessage(content=\"explain about how to feel things in travelling when capturing memories with diffrent places \"),\n",
    "]\n",
    "responses=chat.invoke(messages)\n",
    "print(responses.content)\n"
   ]
  },
  {
   "cell_type": "code",
   "execution_count": 14,
   "metadata": {},
   "outputs": [
    {
     "name": "stdout",
     "output_type": "stream",
     "text": [
      "There are many different types of stories that people enjoy watching, as everyone has their own preferences. However, some popular genres that are generally well-liked by audiences include:\n",
      "\n",
      "1. Action: Exciting and fast-paced, action-packed stories often involve thrilling stunts, fights, and chase scenes.\n",
      "\n",
      "2. Comedy: Light-hearted and humorous stories that aim to make viewers laugh through clever jokes and comedic situations.\n",
      "\n",
      "3. Drama: Emotional and thought-provoking stories that focus on the complexities of human relationships and personal struggles.\n",
      "\n",
      "4. Science Fiction/Fantasy: Imaginative and otherworldly stories that explore futuristic technology, magic, and fantastical creatures.\n",
      "\n",
      "5. Thriller: Suspenseful and intense stories that keep viewers on the edge of their seats with unexpected plot twists and thrilling action sequences.\n",
      "\n",
      "These are just a few popular genres, and there are many sub-genres and niche categories within each one. Ultimately, the best type of story for you to watch will depend on your personal preferences and interests.\n"
     ]
    }
   ],
   "source": [
    "from langchain.schema.messages import HumanMessage,SystemMessage\n",
    "messages=[\n",
    " SystemMessage(content=\"story writer \"),\n",
    " HumanMessage(content=\"which stories are mostly like to watch \"),\n",
    "]\n",
    "responses=chat.invoke(messages)\n",
    "print(responses.content)\n"
   ]
  },
  {
   "cell_type": "code",
   "execution_count": 15,
   "metadata": {},
   "outputs": [
    {
     "name": "stdout",
     "output_type": "stream",
     "text": [
      "Performing surgery on a patient in critical condition requires a well-coordinated and rapid response from the medical team. Here are some general steps that doctors typically take in such situations:\n",
      "\n",
      "1. **Assessment:** Quickly assess the patient's condition and prioritize interventions based on the severity of their symptoms and vital signs.\n",
      "\n",
      "2. **Stabilization:** If the patient's condition is unstable, stabilize them first by addressing any immediate life-threatening issues such as airway obstruction, breathing difficulties, or severe bleeding.\n",
      "\n",
      "3. **Consultation:** If needed, consult with other specialists or senior colleagues to discuss the best course of action for the patient.\n",
      "\n",
      "4. **Informed Consent:** Explain the risks and benefits of the surgery to the patient or their family members, and obtain informed consent if the patient is conscious and able to provide it.\n",
      "\n",
      "5. **Preparation:** Ensure that the operating room is set up for the procedure, gather the necessary equipment and supplies, and prepare the patient for surgery.\n",
      "\n",
      "6. **Team Briefing:** Brief the surgical team on the patient's condition, the planned procedure, and any specific considerations that need to be addressed during the operation.\n",
      "\n",
      "7. **Execution:** Perform the surgery with precision and efficiency, following established protocols and best practices to minimize the risk of complications.\n",
      "\n",
      "8. **Monitoring:** Continuously monitor the patient's vital signs during the surgery, and be prepared to make adjustments as needed to maintain their stability.\n",
      "\n",
      "9. **Post-operative Care:** After the surgery, provide appropriate post-operative care, including monitoring the patient in the recovery room and addressing any immediate post-operative issues.\n",
      "\n",
      "It's important to remember that every patient and surgical situation is unique, and the specific steps taken may vary based on the patient's condition, the type of surgery being performed, and other individual factors. Communication, teamwork, and quick decision-making are key elements in successfully managing a critical surgical situation.\n"
     ]
    }
   ],
   "source": [
    "from langchain.schema.messages import HumanMessage,SystemMessage\n",
    "messages=[\n",
    " SystemMessage(content=\"doctor \"),\n",
    " HumanMessage(content=\" as a doctor how to do an operation when a patient was in critical situation\"),\n",
    "]\n",
    "responses=chat.invoke(messages)\n",
    "print(responses.content)\n"
   ]
  },
  {
   "cell_type": "code",
   "execution_count": 16,
   "metadata": {},
   "outputs": [
    {
     "name": "stdout",
     "output_type": "stream",
     "text": [
      "Agriculture is a vital component of our society as it plays a crucial role in providing food, fiber, and other essential resources to sustain human life. However, whether agriculture is the best option or not depends on various factors that need to be considered. In this discussion, we will explore the pros and cons of agriculture to determine if it is the best option for our society.\n",
      "\n",
      "One of the key advantages of agriculture is its ability to provide food security. Agriculture allows us to produce a variety of crops and livestock to meet the nutritional needs of the growing global population. Without agriculture, we would not be able to feed the billions of people living on this planet. Additionally, agriculture also contributes to economic development by providing employment opportunities, especially in rural areas. Farmers and agricultural workers play a crucial role in producing food and generating income for themselves and their communities.\n",
      "\n",
      "Furthermore, agriculture is essential for environmental sustainability. Sustainable farming practices, such as crop rotation and organic farming, help to preserve soil health and biodiversity. Agriculture also plays a critical role in mitigating climate change by sequestering carbon in the soil and reducing greenhouse gas emissions. In addition, agriculture provides ecosystem services such as pollination and water filtration, which are essential for maintaining a healthy environment.\n",
      "\n",
      "On the other hand, agriculture also has its drawbacks. One of the major challenges facing modern agriculture is its impact on the environment. Intensive farming practices, the use of chemical fertilizers and pesticides, and deforestation for agricultural expansion can lead to soil degradation, water pollution, and loss of biodiversity. These environmental issues can have long-term consequences for the health of our planet and future generations.\n",
      "\n",
      "Another concern is the social and economic implications of agriculture. Small-scale farmers often struggle to compete with large agribusinesses, leading to income inequality and rural poverty. Additionally, the reliance on monocropping and genetically modified crops can reduce crop diversity and increase the vulnerability of our food system to pests and diseases.\n",
      "\n",
      "In conclusion, agriculture is a vital industry that provides essential resources for human survival. However, it is important to recognize the challenges and limitations of agriculture in order to make informed decisions about its future. By promoting sustainable farming practices, supporting small-scale farmers, and investing in research and innovation, we can work towards a more resilient and environmentally friendly agricultural system. Ultimately, agriculture can be the best option for our society if we prioritize sustainability, equity, and long-term food security.\n"
     ]
    }
   ],
   "source": [
    "from langchain.schema.messages import HumanMessage,SystemMessage\n",
    "messages=[\n",
    " SystemMessage(content=\"farmer \"),\n",
    " HumanMessage(content=\" agriculture is best or not provide me in two pages\"),\n",
    "]\n",
    "responses=chat.invoke(messages)\n",
    "print(responses.content)"
   ]
  },
  {
   "cell_type": "code",
   "execution_count": 17,
   "metadata": {},
   "outputs": [
    {
     "name": "stdout",
     "output_type": "stream",
     "text": [
      "Agriculture is a vital industry that plays a crucial role in supporting human life and civilization. From providing food and fiber to sustaining livelihoods and economies, agriculture is essential for our existence. In this essay, we will explore the significance of agriculture, its benefits, challenges, and the importance of sustainable practices for its future.\n",
      "\n",
      "One of the primary reasons why agriculture is considered the best industry is its role in feeding the world's growing population. With the global population projected to reach nearly 10 billion by 2050, the demand for food will continue to rise. Agriculture is the foundation of food production, providing essential nutrients that sustain human life. Through crop cultivation, livestock rearing, and fisheries, agriculture ensures a stable food supply for communities worldwide.\n",
      "\n",
      "Moreover, agriculture is not just about food production; it also contributes significantly to economic development. The agricultural sector employs a large portion of the global workforce, especially in developing countries. Farmers, agricultural workers, and agribusinesses form a substantial part of the labor force, driving rural economies and supporting livelihoods. Agriculture also serves as a source of income for many households, creating opportunities for economic growth and poverty alleviation.\n",
      "\n",
      "Additionally, agriculture plays a critical role in environmental sustainability. Sustainable agricultural practices promote soil health, water conservation, and biodiversity preservation. By implementing techniques such as crop rotation, integrated pest management, and agroforestry, farmers can minimize the environmental impact of their operations. Sustainable agriculture not only ensures the long-term productivity of the land but also helps mitigate climate change by reducing greenhouse gas emissions and promoting carbon sequestration.\n",
      "\n",
      "Despite its numerous benefits, agriculture faces several challenges that threaten its sustainability and productivity. Climate change, water scarcity, soil degradation, and pest infestations are some of the major issues that farmers have to contend with. Erratic weather patterns, prolonged droughts, and extreme temperatures can disrupt agricultural production, leading to crop failures and food shortages. Water scarcity poses a significant threat to agriculture, as unsustainable water use practices can deplete freshwater sources and hinder crop growth.\n",
      "\n",
      "Furthermore, soil degradation, caused by intensive farming practices and deforestation, poses a threat to agricultural productivity. Degraded soils are less fertile, have reduced water retention capacity, and are more susceptible to erosion. Addressing soil degradation through sustainable land management practices is crucial for maintaining soil health and ensuring long-term agricultural productivity.\n",
      "\n",
      "Pest infestations and diseases also pose a significant challenge to agriculture. Invasive pests and pathogens can devastate crops, leading to substantial yield losses and economic hardship for farmers. Integrated pest management strategies, biosecurity measures, and the development of resistant crop varieties are essential for mitigating the impact of pests and diseases on agricultural production.\n",
      "\n",
      "In conclusion, agriculture is undeniably one of the best industries, given its critical role in feeding the world, supporting economies, and promoting environmental sustainability. However, to ensure the long-term viability of agriculture, it is essential to address the challenges it faces through sustainable practices and innovative solutions. By promoting sustainable agriculture, investing in research and technology, and supporting smallholder farmers, we can ensure a resilient and productive agricultural sector for future generations."
     ]
    }
   ],
   "source": [
    "response1=chat.stream(messages)\n",
    "for i1 in response1:\n",
    " print(i1.content,end=\"\",flush=True)"
   ]
  },
  {
   "cell_type": "code",
   "execution_count": 18,
   "metadata": {},
   "outputs": [],
   "source": [
    "from langchain.prompts import PromptTemplate"
   ]
  },
  {
   "cell_type": "code",
   "execution_count": 19,
   "metadata": {},
   "outputs": [],
   "source": [
    "prompt_template=PromptTemplate.from_template(\n",
    " \"as a {role} tellme about {content}.\"\n",
    ")"
   ]
  },
  {
   "cell_type": "code",
   "execution_count": 20,
   "metadata": {},
   "outputs": [
    {
     "name": "stdout",
     "output_type": "stream",
     "text": [
      "as a sales executive tellme about sales processing.\n"
     ]
    }
   ],
   "source": [
    "filled_prompt=prompt_template.format(role=\"sales executive\", content=\"sales processing\")\n",
    "print(filled_prompt)"
   ]
  },
  {
   "cell_type": "code",
   "execution_count": 21,
   "metadata": {},
   "outputs": [],
   "source": [
    "prompt_and_model=prompt_template|model"
   ]
  },
  {
   "cell_type": "code",
   "execution_count": 22,
   "metadata": {},
   "outputs": [
    {
     "name": "stdout",
     "output_type": "stream",
     "text": [
      "\n",
      "\n",
      "Sales processing refers to the steps and strategies used to convert potential leads into actual sales. As a sales executive, my main responsibility is to oversee and manage this process to ensure maximum efficiency and success.\n",
      "\n",
      "The first step in sales processing is identifying potential customers or leads. This involves researching and understanding the target market, their needs and preferences, and creating a database of potential customers.\n",
      "\n",
      "The next step is to engage with these leads through various channels such as cold calling, email marketing, social media, or in-person meetings. The goal is to build a relationship with the leads and understand their specific needs and pain points.\n",
      "\n",
      "Once the leads are engaged, the next step is to qualify them. This involves determining their level of interest, budget, and timeline for making a purchase. This step helps in prioritizing leads and focusing on those with the highest potential for conversion.\n",
      "\n",
      "Once a lead is qualified, the sales process moves to the presentation stage. This is where a sales executive showcases the products or services and highlights how they can meet the customer's needs and solve their problems. This stage requires strong communication and negotiation skills to address any objections or concerns the customer may have.\n",
      "\n",
      "After the presentation, the sales executive will follow up with the lead to answer any remaining questions and close the deal. This stage\n"
     ]
    }
   ],
   "source": [
    "output=prompt_and_model.invoke({\"role\":\"sales executive\",\"content\":\"sales processing\"})\n",
    "print(output)\n"
   ]
  },
  {
   "cell_type": "code",
   "execution_count": 23,
   "metadata": {},
   "outputs": [
    {
     "name": "stdout",
     "output_type": "stream",
     "text": [
      "\n",
      "\n",
      "1. Immediate medical attention: The first and most important step in treating a heart attack patient is to seek immediate medical attention. Time is critical in a heart attack, and delays in treatment can lead to serious complications or even death.\n",
      "\n",
      "2. Oxygen therapy: The patient may be given oxygen therapy to increase the oxygen levels in the blood and help the heart function better.\n",
      "\n",
      "3. Medications: The patient may be given medications such as aspirin, nitroglycerin, and beta-blockers to help reduce the workload on the heart, relieve chest pain, and prevent further damage to the heart.\n",
      "\n",
      "4. Thrombolytic therapy: Thrombolytic therapy, also known as clot-busting therapy, may be used to dissolve the blood clot that is causing the heart attack. This treatment is most effective when given within the first few hours of a heart attack.\n",
      "\n",
      "5. Angioplasty and stenting: In this procedure, a thin tube with a balloon at the end is inserted into the blocked artery and inflated to open up the blockage. A stent, a small mesh tube, may also be placed in the artery to keep it open.\n",
      "\n",
      "6. Coronary artery bypass surgery: If the blockage is severe and cannot be treated with angioplast\n"
     ]
    }
   ],
   "source": [
    "output=prompt_and_model.invoke({\"role\":\"cardiologist\",\"content\":\"how to treat a heart attack patients\"})\n",
    "print(output)\n"
   ]
  },
  {
   "cell_type": "code",
   "execution_count": 24,
   "metadata": {},
   "outputs": [
    {
     "name": "stdout",
     "output_type": "stream",
     "text": [
      "\n",
      "\n",
      "Being a vegetarian in India is not difficult at all as the country has a rich cultural heritage of vegetarianism. Vegetarianism in India is not just a dietary choice, it is a way of life and is deeply rooted in the country's culture and traditions.\n",
      "\n",
      "There are several food items in Indian cuisine that are specifically made for vegetarians and are loved by people all over the world. Here are some of the most popular vegetarian food items in India:\n",
      "\n",
      "1. Dal: Dal or lentils are a staple in Indian cuisine and are a major source of protein for vegetarians. It is a simple dish made with various types of lentils, spices, and herbs and is usually served with rice or roti (Indian flatbread).\n",
      "\n",
      "2. Sabzi: Sabzi is a generic term for any vegetable dish in Indian cuisine. It can be made with a variety of vegetables, spices, and herbs, and is usually served as a side dish with rice or roti.\n",
      "\n",
      "3. Roti/Chapati: Roti or chapati is an Indian flatbread made with whole wheat flour. It is a staple in most Indian households and is usually eaten with curries or sabzi.\n",
      "\n",
      "4. Rice: Rice is another staple in Indian cuisine and is the most commonly consumed\n"
     ]
    }
   ],
   "source": [
    "output=prompt_and_model.invoke({\"role\":\"vegetarian\",\"content\":\"provide me the all vegetarian food items in indian explanation\"})\n",
    "print(output)"
   ]
  },
  {
   "cell_type": "code",
   "execution_count": 26,
   "metadata": {},
   "outputs": [
    {
     "name": "stdout",
     "output_type": "stream",
     "text": [
      "\n",
      "\n",
      "Step 1: Marinating the Chicken\n",
      "- Wash and clean 1 kg of chicken pieces and pat them dry.\n",
      "- In a large mixing bowl, add the chicken pieces and 1 cup of plain yogurt.\n",
      "- Add 2 tablespoons of ginger-garlic paste, 1 tablespoon of red chili powder, 1 teaspoon of turmeric powder, 1 teaspoon of garam masala, 1 teaspoon of coriander powder, 1 teaspoon of cumin powder, 1 teaspoon of black pepper powder, and salt to taste.\n",
      "- Mix everything together and make sure the chicken is coated well with the marinade.\n",
      "- Cover the bowl with plastic wrap and let the chicken marinate in the refrigerator for at least 2 hours.\n",
      "\n",
      "Step 2: Preparing the Rice\n",
      "- In a large pot, add 8 cups of water and bring it to a boil.\n",
      "- Rinse 2 cups of long-grain basmati rice and add it to the boiling water.\n",
      "- Add 1 teaspoon of salt and let the rice cook for about 8-10 minutes or until it is 80% cooked.\n",
      "- Drain the rice and set it aside.\n",
      "\n",
      "Step 3: Preparing the Biryani Masala\n",
      "- In a large pot\n"
     ]
    }
   ],
   "source": [
    "output=prompt_and_model.invoke({\"role\":\"non-vegetarian\",\"content\":\"provide me step by step process of chicken biryani in detail\"})\n",
    "print(output)"
   ]
  }
 ],
 "metadata": {
  "kernelspec": {
   "display_name": "Python 3",
   "language": "python",
   "name": "python3"
  },
  "language_info": {
   "codemirror_mode": {
    "name": "ipython",
    "version": 3
   },
   "file_extension": ".py",
   "mimetype": "text/x-python",
   "name": "python",
   "nbconvert_exporter": "python",
   "pygments_lexer": "ipython3",
   "version": "3.11.5"
  }
 },
 "nbformat": 4,
 "nbformat_minor": 2
}
